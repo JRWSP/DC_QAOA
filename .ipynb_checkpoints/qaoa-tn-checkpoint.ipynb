{
 "cells": [
  {
   "cell_type": "markdown",
   "metadata": {},
   "source": [
    "### This program efficiently generates an QAOA anzat with N assets and M actions"
   ]
  },
  {
   "cell_type": "markdown",
   "metadata": {},
   "source": [
    "by QTFT Team, 20/5/2021"
   ]
  },
  {
   "cell_type": "code",
   "execution_count": 1,
   "metadata": {},
   "outputs": [],
   "source": [
    "import numpy as np\n",
    "from numpy import tensordot, kron, ones\n",
    "import time\n",
    "from tqdm import tqdm"
   ]
  },
  {
   "cell_type": "markdown",
   "metadata": {},
   "source": [
    "The Hamiltonian is \n",
    "\n",
    "$H = -\\sum_{i=1}^N \\sum_{j=1}^M Q_{i,j}n_{i,j} - \\epsilon \\sum_{\\langle i,i'\\rangle}A_{i,i'} (1-n_{i,0})(1-n_{i',0})$,"
   ]
  },
  {
   "cell_type": "code",
   "execution_count": 2,
   "metadata": {},
   "outputs": [],
   "source": [
    "# Number of assets\n",
    "N = 8\n",
    "\n",
    "# Number of actions\n",
    "M = 7\n",
    "\n",
    "# Q values\n",
    "Q = np.random.rand(N,M)\n",
    "\n",
    "# A values\n",
    "A = np.random.rand(N,N)\n",
    "A = (A + A.T)/2\n",
    "\n",
    "# epsilon\n",
    "e = 0.1"
   ]
  },
  {
   "cell_type": "markdown",
   "metadata": {},
   "source": [
    "Rewrite the Hamiltonian as\n",
    "\n",
    "$H = -\\sum_{i,j}h_{i,j}n_{i,j}-\\sum_{i,i'}J_{i,i'}n_{i,0}n_{i',0}$,\n",
    "\n",
    "where $h_{i,j} = Q_{i,j} - e\\delta_{i,0}\\sum_{i'=1}^M A_{i,i'}$,\n",
    "$J_{i,i'}=\\epsilon A_{i,i'}$"
   ]
  },
  {
   "cell_type": "code",
   "execution_count": 3,
   "metadata": {},
   "outputs": [],
   "source": [
    "# Onsite field\n",
    "h = Q\n",
    "h[:,0] += -e*np.sum(A,axis=1)\n",
    "\n",
    "# Coupling\n",
    "J = e*A"
   ]
  },
  {
   "cell_type": "markdown",
   "metadata": {},
   "source": [
    "The QAOA anzat involves to type of operators.\n",
    "\n",
    "The 'mixing' operator generated from the tight-binding model:\n",
    "\n",
    "$U_A = \\prod_{i=1}^N\\otimes u_A^{(i)}$,\n",
    "$u_A^{(i)} = \\exp\\left(-ih_A^{(i)}\\beta_t\\right)$,\n",
    "$h_A^{(i)} = \\sum_{j}(a^\\dagger_{i,j}a_{i,j+1} + H.c.)$,\n",
    "\n",
    "\n",
    "The 'encoding' operator:\n",
    "\n",
    "$U_B = \\exp\\left(-i H \\gamma_t\\right)$.\n",
    "\n",
    "Here, a quantum state is represented as a rank-N tensor with the leg dimension M."
   ]
  },
  {
   "cell_type": "code",
   "execution_count": null,
   "metadata": {},
   "outputs": [],
   "source": [
    "# Get a tight-binding operator acting on each asset \n",
    "def get_u_A(beta_t):\n",
    "    \n",
    "    global vs, es\n",
    "    \n",
    "    # Eigenstates  |E_k> = a^\\dagger_k |0>\n",
    "    if 'vs' not in globals():\n",
    "        vs = np.exp(-1j*np.array([[ 2*np.pi*k*j/M for k in range(M)] for j in range(M)])) / np.sqrt(M)\n",
    "        \n",
    "    # Eigenvalues e^{-iE_k} where E_k = 2*cos(k)\n",
    "    if 'es' not in globals(): \n",
    "        es = np.exp(-1j*2*np.cos(np.arange(M)*2*np.pi/M))\n",
    "        \n",
    "    return np.conj(vs.T).dot(np.power(es,beta_t)[:,None]*vs)\n",
    "\n",
    "\n",
    "# Apply the total U_A \n",
    "def apply_U_A(beta_t,psi):\n",
    "    \n",
    "    u = get_u_A(beta_t)\n",
    "    \n",
    "    for i in range(N):\n",
    "        \n",
    "        assert np.shape(psi)[i] == M\n",
    "        \n",
    "        psi = np.tensordot(u,psi,axes=(1,i))\n",
    "        \n",
    "    return psi\n",
    "\n",
    "\n",
    "# Apply an onsite term in U_B \n",
    "def apply_u_B_onsite(gamma_t,i,psi):\n",
    "    \n",
    "    assert i < N\n",
    "    \n",
    "    u = np.exp(-1j*(-h[i,:]) * gamma_t)\n",
    "    \n",
    "    idx = '[' +'None,'*i + ':' + ',None'*(N-i-1) + ']'\n",
    "    \n",
    "    exec('psi *= u'+idx)\n",
    "\n",
    "    return \n",
    "\n",
    "\n",
    "# Apply an coupling term in U_B \n",
    "def apply_u_B_coupling(gamma_t,i,ii,psi):\n",
    "    \n",
    "    assert i>ii\n",
    "    \n",
    "    idx = '['+':,'*ii + '0,' + ':,'*(i-ii-1) + '0' +',:'*(N-i-1) + ']'\n",
    "    \n",
    "    exec('psi' + idx +'*= np.exp(-1j*(-J[i,ii])*gamma_t)')\n",
    "    \n",
    "    return \n",
    "    \n",
    "\n",
    "# Apply the total U_B\n",
    "def apply_U_B(gamma_t,psi):\n",
    "    \n",
    "    for i in range(N):\n",
    "        \n",
    "        assert np.shape(psi)[i] == M\n",
    "        \n",
    "        \n",
    "        apply_u_B_onsite(gamma_t,i,psi)\n",
    "        \n",
    "               \n",
    "        for ii in range(i):\n",
    "            \n",
    "            apply_u_B_coupling(gamma_t,i,ii,psi)      \n",
    "            \n",
    "    return psi"
   ]
  },
  {
   "cell_type": "markdown",
   "metadata": {},
   "source": [
    "Generate an QAOA anzat with $T$ cycles"
   ]
  },
  {
   "cell_type": "code",
   "execution_count": 5,
   "metadata": {
    "scrolled": false
   },
   "outputs": [
    {
     "name": "stderr",
     "output_type": "stream",
     "text": [
      "100%|██████████| 10/10 [00:04<00:00,  2.12it/s]"
     ]
    },
    {
     "name": "stdout",
     "output_type": "stream",
     "text": [
      "********** RUN SUCCESSFULLY *********\n",
      "\n",
      "Number of assets: 8\n",
      "Number of actions: 7\n",
      "Number of qubits: 56\n",
      "Number of cycles: 10\n",
      "\n",
      "Calculation time in seconds: 4.72\n",
      "Number of state components in millions: 5.764801\n",
      "Memory size of the state in MB: 92.236816\n",
      "\n",
      "***************************************\n",
      "\n"
     ]
    },
    {
     "name": "stderr",
     "output_type": "stream",
     "text": [
      "\n"
     ]
    }
   ],
   "source": [
    "start = time.time()\n",
    "\n",
    "psi = np.zeros(M**N,dtype='complex')\n",
    "psi[0] = 1\n",
    "psi = np.reshape(psi,[M]*N)\n",
    "\n",
    "T = 10\n",
    "params = np.random.rand(2,T)\n",
    "\n",
    "for t in tqdm(range(T)):\n",
    "    psi = apply_U_B(params[0,t],psi)\n",
    "    psi = apply_U_A(params[1,t],psi)\n",
    "\n",
    "end = time.time()\n",
    "\n",
    "print('********** RUN SUCCESSFULLY *********\\n')\n",
    "print('Number of assets:', N)\n",
    "print('Number of actions:', M)\n",
    "print('Number of qubits:', N*M)\n",
    "print('Number of cycles:', T)\n",
    "print('\\nCalculation time in seconds: %.2f'%((end - start)))\n",
    "print(\"Number of state components in millions:\", M**N/10**6)\n",
    "print(\"Memory size of the state in MB:\", psi.size * psi.itemsize/10**6)\n",
    "print('\\n***************************************\\n')"
   ]
  }
 ],
 "metadata": {
  "kernelspec": {
   "display_name": "Python 3",
   "language": "python",
   "name": "python3"
  },
  "language_info": {
   "codemirror_mode": {
    "name": "ipython",
    "version": 3
   },
   "file_extension": ".py",
   "mimetype": "text/x-python",
   "name": "python",
   "nbconvert_exporter": "python",
   "pygments_lexer": "ipython3",
   "version": "3.8.8"
  }
 },
 "nbformat": 4,
 "nbformat_minor": 4
}
