{
 "cells": [
  {
   "cell_type": "code",
   "execution_count": 1,
   "id": "4c6a5488",
   "metadata": {},
   "outputs": [],
   "source": [
    "import numpy as np\n",
    "from qaoa_tn import QAOA_TN, Relaxation, Exact\n",
    "from scipy.optimize import minimize\n",
    "import matplotlib.pyplot as plt\n",
    "from scipy import sparse\n",
    "import networkx as nx\n",
    "import community\n",
    "import random"
   ]
  },
  {
   "cell_type": "markdown",
   "id": "f0217678",
   "metadata": {},
   "source": [
    "Read data."
   ]
  },
  {
   "cell_type": "code",
   "execution_count": null,
   "id": "f22e3f9d",
   "metadata": {},
   "outputs": [],
   "source": []
  }
 ],
 "metadata": {
  "kernelspec": {
   "display_name": "Python 3",
   "language": "python",
   "name": "python3"
  },
  "language_info": {
   "codemirror_mode": {
    "name": "ipython",
    "version": 3
   },
   "file_extension": ".py",
   "mimetype": "text/x-python",
   "name": "python",
   "nbconvert_exporter": "python",
   "pygments_lexer": "ipython3",
   "version": "3.8.8"
  }
 },
 "nbformat": 4,
 "nbformat_minor": 5
}
