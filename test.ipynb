{
 "cells": [
  {
   "cell_type": "code",
   "execution_count": 2,
   "metadata": {},
   "outputs": [],
   "source": [
    "import numpy as np\n",
    "from qaoa_tn import QAOA_TN\n",
    "from scipy.optimize import minimize\n",
    "import matplotlib.pyplot as plt\n",
    "from scipy import sparse"
   ]
  },
  {
   "cell_type": "code",
   "execution_count": 2,
   "metadata": {},
   "outputs": [],
   "source": [
    "# Number of assets\n",
    "N = 5\n",
    "\n",
    "# Number of actions\n",
    "M = 7\n",
    "\n",
    "# Q values\n",
    "Q = np.random.rand(N,M)\n",
    "\n",
    "# A values\n",
    "A = np.random.rand(N,N)\n",
    "A = (A + A.T)/2\n",
    "\n",
    "# epsilon\n",
    "e = 0.1\n",
    "\n",
    "# Number of cycles\n",
    "cycles = 20"
   ]
  },
  {
   "cell_type": "code",
   "execution_count": 5,
   "metadata": {},
   "outputs": [
    {
     "name": "stdout",
     "output_type": "stream",
     "text": [
      "Warning: Maximum number of iterations has been exceeded.\n",
      "         Current function value: -1.348615\n",
      "         Iterations: 100\n",
      "         Function evaluations: 4536\n",
      "         Gradient evaluations: 108\n"
     ]
    }
   ],
   "source": [
    "qaoa = QAOA_TN(N, M, Q, A, e, cycles)\n",
    "qaoa.optimized(maxiter=100,method='BFGS')"
   ]
  },
  {
   "cell_type": "code",
   "execution_count": 6,
   "metadata": {},
   "outputs": [
    {
     "data": {
      "text/plain": [
       "Text(0, 0.5, 'Cost')"
      ]
     },
     "execution_count": 6,
     "metadata": {},
     "output_type": "execute_result"
    },
    {
     "data": {
      "image/png": "[encoded data removed]",
      "text/plain": [
       "<Figure size 432x288 with 1 Axes>"
      ]
     },
     "metadata": {
      "needs_background": "light"
     },
     "output_type": "display_data"
    }
   ],
   "source": [
    "es = np.sort(qaoa.get_exact_energies())\n",
    "\n",
    "plt.axhline(y=min(es), linestyle='-',alpha=0.5,c='r')\n",
    "    \n",
    "plt.plot(qaoa.costs)\n",
    "plt.xticks(fontsize=14)\n",
    "plt.yticks(fontsize=14)\n",
    "plt.xlabel('Number of evaluations',fontsize=14)\n",
    "plt.ylabel('Cost',fontsize=14)"
   ]
  }
 ],
 "metadata": {
  "kernelspec": {
   "display_name": "Python 3",
   "language": "python",
   "name": "python3"
  },
  "language_info": {
   "codemirror_mode": {
    "name": "ipython",
    "version": 3
   },
   "file_extension": ".py",
   "mimetype": "text/x-python",
   "name": "python",
   "nbconvert_exporter": "python",
   "pygments_lexer": "ipython3",
   "version": "3.8.8"
  }
 },
 "nbformat": 4,
 "nbformat_minor": 4
}
